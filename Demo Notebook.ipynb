{
    "cells": [
        {
            "cell_type": "code",
            "execution_count": 1,
            "metadata": {},
            "outputs": [
                {
                    "data": {
                        "text/html": "<div>\n<style scoped>\n    .dataframe tbody tr th:only-of-type {\n        vertical-align: middle;\n    }\n\n    .dataframe tbody tr th {\n        vertical-align: top;\n    }\n\n    .dataframe thead th {\n        text-align: right;\n    }\n</style>\n<table border=\"1\" class=\"dataframe\">\n  <thead>\n    <tr style=\"text-align: right;\">\n      <th></th>\n      <th>Country Name</th>\n      <th>Country ISO3</th>\n      <th>Year</th>\n      <th>Indicator Name</th>\n      <th>Indicator Code</th>\n      <th>Value</th>\n    </tr>\n  </thead>\n  <tbody>\n    <tr>\n      <th>0</th>\n      <td>#country+name</td>\n      <td>#country+code</td>\n      <td>#date+year</td>\n      <td>#indicator+name</td>\n      <td>#indicator+code</td>\n      <td>#indicator+value+num</td>\n    </tr>\n    <tr>\n      <th>1</th>\n      <td>Pakistan</td>\n      <td>PAK</td>\n      <td>2006</td>\n      <td>Agricultural machinery, tractors</td>\n      <td>AG.AGR.TRAC.NO</td>\n      <td>439741</td>\n    </tr>\n    <tr>\n      <th>2</th>\n      <td>Pakistan</td>\n      <td>PAK</td>\n      <td>2005</td>\n      <td>Agricultural machinery, tractors</td>\n      <td>AG.AGR.TRAC.NO</td>\n      <td>420702</td>\n    </tr>\n    <tr>\n      <th>3</th>\n      <td>Pakistan</td>\n      <td>PAK</td>\n      <td>2004</td>\n      <td>Agricultural machinery, tractors</td>\n      <td>AG.AGR.TRAC.NO</td>\n      <td>401663</td>\n    </tr>\n    <tr>\n      <th>4</th>\n      <td>Pakistan</td>\n      <td>PAK</td>\n      <td>2003</td>\n      <td>Agricultural machinery, tractors</td>\n      <td>AG.AGR.TRAC.NO</td>\n      <td>363462</td>\n    </tr>\n  </tbody>\n</table>\n</div>",
                        "text/plain": "    Country Name   Country ISO3        Year                    Indicator Name  \\\n0  #country+name  #country+code  #date+year                   #indicator+name   \n1       Pakistan            PAK        2006  Agricultural machinery, tractors   \n2       Pakistan            PAK        2005  Agricultural machinery, tractors   \n3       Pakistan            PAK        2004  Agricultural machinery, tractors   \n4       Pakistan            PAK        2003  Agricultural machinery, tractors   \n\n    Indicator Code                 Value  \n0  #indicator+code  #indicator+value+num  \n1   AG.AGR.TRAC.NO                439741  \n2   AG.AGR.TRAC.NO                420702  \n3   AG.AGR.TRAC.NO                401663  \n4   AG.AGR.TRAC.NO                363462  "
                    },
                    "execution_count": 1,
                    "metadata": {},
                    "output_type": "execute_result"
                }
            ],
            "source": "# The code was removed by Watson Studio for sharing."
        },
        {
            "cell_type": "code",
            "execution_count": null,
            "metadata": {},
            "outputs": [],
            "source": ""
        }
    ],
    "metadata": {
        "kernelspec": {
            "display_name": "Python 3.9",
            "language": "python",
            "name": "python3"
        },
        "language_info": {
            "codemirror_mode": {
                "name": "ipython",
                "version": 3
            },
            "file_extension": ".py",
            "mimetype": "text/x-python",
            "name": "python",
            "nbconvert_exporter": "python",
            "pygments_lexer": "ipython3",
            "version": "3.9.12"
        }
    },
    "nbformat": 4,
    "nbformat_minor": 1
}